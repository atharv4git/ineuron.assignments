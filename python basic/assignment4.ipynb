{
 "cells": [
  {
   "cell_type": "markdown",
   "id": "2d3f5c52",
   "metadata": {},
   "source": [
    "# Atharv Kulkarni\n",
    "## Assignment 4\n",
    "### Q1\n",
    "What exactly is []?\n",
    "### A1\n",
    "[] is an empty list"
   ]
  },
  {
   "cell_type": "code",
   "execution_count": 1,
   "id": "e80c1d77",
   "metadata": {},
   "outputs": [
    {
     "name": "stdout",
     "output_type": "stream",
     "text": [
      "[] <class 'list'>\n"
     ]
    }
   ],
   "source": [
    "l = []\n",
    "print(l,type(l))"
   ]
  },
  {
   "cell_type": "markdown",
   "id": "39aaf46d",
   "metadata": {},
   "source": [
    "### Q2\n",
    "In a list of values stored in a variable called spam, how would you assign the value &#39;hello&#39; as the third value? (Assume [2, 4, 6, 8, 10] are in spam.)\n",
    "### A2"
   ]
  },
  {
   "cell_type": "code",
   "execution_count": 2,
   "id": "28aaad78",
   "metadata": {},
   "outputs": [
    {
     "name": "stdout",
     "output_type": "stream",
     "text": [
      "[2, 4, 6, 8, 10]\n",
      "[2, 4, 'hello', 6, 8, 10]\n"
     ]
    }
   ],
   "source": [
    "spam = [2,4,6,8,10]\n",
    "print(spam)\n",
    "spam.insert(2,\"hello\")\n",
    "print(spam)"
   ]
  },
  {
   "cell_type": "markdown",
   "id": "11c0e549",
   "metadata": {},
   "source": [
    "### Q3\n",
    "What is the value of spam[int(int(&#39;3&#39; * 2) / 11)]?\n",
    "### A3"
   ]
  },
  {
   "cell_type": "code",
   "execution_count": 3,
   "id": "cf63d136",
   "metadata": {},
   "outputs": [
    {
     "data": {
      "text/plain": [
       "6"
      ]
     },
     "execution_count": 3,
     "metadata": {},
     "output_type": "execute_result"
    }
   ],
   "source": [
    "spam[int(int('3' * 2) / 11)]"
   ]
  },
  {
   "cell_type": "markdown",
   "id": "a77458bd",
   "metadata": {},
   "source": [
    "### Q4\n",
    "What is the value of spam[-1]?\n",
    "### A4"
   ]
  },
  {
   "cell_type": "code",
   "execution_count": 4,
   "id": "b7c47959",
   "metadata": {},
   "outputs": [
    {
     "data": {
      "text/plain": [
       "10"
      ]
     },
     "execution_count": 4,
     "metadata": {},
     "output_type": "execute_result"
    }
   ],
   "source": [
    "spam[-1]"
   ]
  },
  {
   "cell_type": "markdown",
   "id": "1626aa7d",
   "metadata": {},
   "source": [
    "### Q5\n",
    "what is the value of spam[:2]\n",
    "### A5"
   ]
  },
  {
   "cell_type": "code",
   "execution_count": 5,
   "id": "334bb52e",
   "metadata": {},
   "outputs": [
    {
     "data": {
      "text/plain": [
       "[2, 4]"
      ]
     },
     "execution_count": 5,
     "metadata": {},
     "output_type": "execute_result"
    }
   ],
   "source": [
    "spam[:2]"
   ]
  },
  {
   "cell_type": "markdown",
   "id": "fede20e2",
   "metadata": {},
   "source": [
    "### Q6\n",
    "Let&#39;s pretend bacon has the list [3.14, &#39;cat,&#39; 11, &#39;cat,&#39; True] for the next three questions. \\\n",
    "\n",
    "What is the value of bacon.index(&#39;cat&#39;)?\n",
    "### A6"
   ]
  },
  {
   "cell_type": "code",
   "execution_count": 6,
   "id": "fc2424f0",
   "metadata": {},
   "outputs": [
    {
     "data": {
      "text/plain": [
       "1"
      ]
     },
     "execution_count": 6,
     "metadata": {},
     "output_type": "execute_result"
    }
   ],
   "source": [
    "bacon = [3.14, 'cat', 11, 'cat', True]\n",
    "bacon.index('cat')"
   ]
  },
  {
   "cell_type": "markdown",
   "id": "45e797f3",
   "metadata": {},
   "source": [
    "### Q7\n",
    "How does bacon.append(99) change the look of the list value in bacon?\n",
    "### A7"
   ]
  },
  {
   "cell_type": "code",
   "execution_count": 7,
   "id": "b0f8be22",
   "metadata": {},
   "outputs": [
    {
     "name": "stdout",
     "output_type": "stream",
     "text": [
      "before: [3.14, 'cat', 11, 'cat', True]\n",
      "after: [3.14, 'cat', 11, 'cat', True, 99]\n"
     ]
    }
   ],
   "source": [
    "print(\"before:\",bacon)\n",
    "bacon.append(99)\n",
    "print(\"after:\",bacon)"
   ]
  },
  {
   "cell_type": "markdown",
   "id": "c0684335",
   "metadata": {},
   "source": [
    "### Q8\n",
    "How does bacon.remove(&#39;cat&#39;) change the look of the list in bacon?\n",
    "### A8"
   ]
  },
  {
   "cell_type": "code",
   "execution_count": 8,
   "id": "2b72fa04",
   "metadata": {},
   "outputs": [
    {
     "name": "stdout",
     "output_type": "stream",
     "text": [
      "before: [3.14, 'cat', 11, 'cat', True, 99]\n",
      "after: [3.14, 11, 'cat', True, 99]\n"
     ]
    }
   ],
   "source": [
    "print(\"before:\",bacon)\n",
    "bacon.remove('cat')\n",
    "print(\"after:\",bacon)"
   ]
  },
  {
   "cell_type": "markdown",
   "id": "d0766c0a",
   "metadata": {},
   "source": [
    "### Q9\n",
    "What are the list concatenation and list replication operators?\n",
    "### A9"
   ]
  },
  {
   "cell_type": "code",
   "execution_count": 9,
   "id": "f07cb347",
   "metadata": {},
   "outputs": [
    {
     "name": "stdout",
     "output_type": "stream",
     "text": [
      "[1, 2, 3, 4, 5, 6, 7, 8, 9, 10]\n"
     ]
    }
   ],
   "source": [
    "# for list concatination:\n",
    "l1 = [1,2,3,4,5]\n",
    "l2 = [6,7,8,9,10]\n",
    "l3 = l1+l2\n",
    "print(l3)"
   ]
  },
  {
   "cell_type": "code",
   "execution_count": 10,
   "id": "2894f8c2",
   "metadata": {},
   "outputs": [
    {
     "name": "stdout",
     "output_type": "stream",
     "text": [
      "[1, 2, 3, 4, 5, 1, 2, 3, 4, 5, 1, 2, 3, 4, 5, 1, 2, 3, 4, 5, 1, 2, 3, 4, 5]\n"
     ]
    }
   ],
   "source": [
    "# for list replication:\n",
    "l4 = l1*5\n",
    "print(l4)"
   ]
  },
  {
   "cell_type": "markdown",
   "id": "381a18b8",
   "metadata": {},
   "source": [
    "### Q10\n",
    "What is difference between the list methods append() and insert()?\n",
    "### A10\n",
    "append adds the desired element to the end of the list whereas insert inserts the desired element to the specified index of the list."
   ]
  },
  {
   "cell_type": "markdown",
   "id": "c2dbedb0",
   "metadata": {},
   "source": [
    "### Q11\n",
    "What are the two methods for removing items from a list?\n",
    "### A11"
   ]
  },
  {
   "cell_type": "code",
   "execution_count": 11,
   "id": "9e17a69d",
   "metadata": {},
   "outputs": [
    {
     "name": "stdout",
     "output_type": "stream",
     "text": [
      "10\n",
      "[1, 2, 3, 4, 5, 6, 7, 8, 9]\n",
      "[1, 2, 3, 4, 6, 7, 8, 9]\n"
     ]
    }
   ],
   "source": [
    "l = [1,2,3,4,5,6,7,8,9,10]\n",
    "# POP\n",
    "print(l.pop())\n",
    "print(l)\n",
    "#REMOVE\n",
    "l.remove(5)\n",
    "print(l)"
   ]
  },
  {
   "cell_type": "markdown",
   "id": "0a744e19",
   "metadata": {},
   "source": [
    "### Q12\n",
    "Describe how list values and string values are identical.\n",
    "### A12\n",
    "Just like lists we can iterate through the string...each character in the string type variable can be accesses using an index no. \\\n",
    "example:"
   ]
  },
  {
   "cell_type": "code",
   "execution_count": 12,
   "id": "294cb522",
   "metadata": {},
   "outputs": [
    {
     "name": "stdout",
     "output_type": "stream",
     "text": [
      "t\n",
      "h\n",
      "i\n",
      "s\n",
      " \n",
      "i\n",
      "s\n",
      " \n",
      "a\n",
      " \n",
      "t\n",
      "e\n",
      "s\n",
      "t\n",
      " \n",
      "s\n",
      "e\n",
      "n\n",
      "t\n",
      "e\n",
      "n\n",
      "c\n",
      "e\n"
     ]
    }
   ],
   "source": [
    "list1 = [1,2,3,4,5,6,7,8,9,10]\n",
    "string1 = \"this is a test sentence\"\n",
    "for i in string1:\n",
    "    print(i)"
   ]
  },
  {
   "cell_type": "code",
   "execution_count": 13,
   "id": "5a9af779",
   "metadata": {},
   "outputs": [
    {
     "name": "stdout",
     "output_type": "stream",
     "text": [
      "ecnetnes tset a si siht\n",
      "is \n",
      "hsi  etsnec\n"
     ]
    }
   ],
   "source": [
    "print(string1[::-1])\n",
    "print(string1[2:5])\n",
    "print(string1[1::2])"
   ]
  },
  {
   "cell_type": "markdown",
   "id": "e4d188f3",
   "metadata": {},
   "source": [
    "### Q13\n",
    "What&#39;s the difference between tuples and lists?\n",
    "### A13\n",
    "* The main difference between tuples and lists is that lists are mutable i.e. we can change their elements but tuples are immutable i.e we cannot change their elements after they're created.\n",
    "* Also Lists take more memory space than tuple\n",
    "* Tuples are littlle faster than lists"
   ]
  },
  {
   "cell_type": "code",
   "execution_count": 14,
   "id": "1220f83b",
   "metadata": {},
   "outputs": [
    {
     "name": "stdout",
     "output_type": "stream",
     "text": [
      "152\n",
      "120\n"
     ]
    }
   ],
   "source": [
    "import sys\n",
    "l = [1,2,3,4,5,6,7,8,9,10]\n",
    "t = (1,2,3,4,5,6,7,8,9,10)\n",
    "print(sys.getsizeof(l))\n",
    "print(sys.getsizeof(t))"
   ]
  },
  {
   "cell_type": "markdown",
   "id": "966f1fe4",
   "metadata": {},
   "source": [
    "### Q14\n",
    "How do you type a tuple value that only contains the integer 42?\n",
    "### A14"
   ]
  },
  {
   "cell_type": "code",
   "execution_count": 15,
   "id": "0fe7f59f",
   "metadata": {},
   "outputs": [
    {
     "name": "stdout",
     "output_type": "stream",
     "text": [
      "(42,)\n",
      "<class 'tuple'>\n"
     ]
    }
   ],
   "source": [
    "t_one = (42,)\n",
    "print(t_one)\n",
    "print(type(t_one))"
   ]
  },
  {
   "cell_type": "markdown",
   "id": "62664eae",
   "metadata": {},
   "source": [
    "### Q15\n",
    "How do you get a list value&#39;s tuple form? How do you get a tuple value&#39;s list form?\n",
    "### A15"
   ]
  },
  {
   "cell_type": "code",
   "execution_count": 16,
   "id": "1314f8bb",
   "metadata": {},
   "outputs": [
    {
     "name": "stdout",
     "output_type": "stream",
     "text": [
      "<class 'tuple'> (1, 2, 3, 4, 5)\n",
      "<class 'list'> [11, 22, 33, 44, 55]\n"
     ]
    }
   ],
   "source": [
    "l_main = [1,2,3,4,5]\n",
    "t_main = (11,22,33,44,55)\n",
    "\n",
    "t_clone = tuple(l_main)\n",
    "l_clone = list(t_main)\n",
    "\n",
    "print(type(t_clone),t_clone)\n",
    "print(type(l_clone),l_clone)"
   ]
  },
  {
   "cell_type": "markdown",
   "id": "4db54490",
   "metadata": {},
   "source": [
    "### Q16\n",
    "Variables that &quot;contain&quot; list values are not necessarily lists themselves. Instead, what do they contain?\n",
    "### A16\n",
    "for lists variable smay contain refrences to the list values"
   ]
  },
  {
   "attachments": {
    "image-2.png": {
     "image/png": "[encoded data removed]"
    },
    "image.png": {
     "image/png": "[encoded data removed]"
    }
   },
   "cell_type": "markdown",
   "id": "27e8681c",
   "metadata": {},
   "source": [
    "### Q17\n",
    "How do you distinguish between copy.copy() and copy.deepcopy()?\n",
    "### A17\n",
    "![image.png](attachment:image.png)\n",
    "![image-2.png](attachment:image-2.png)"
   ]
  },
  {
   "cell_type": "code",
   "execution_count": 17,
   "id": "bbfb03f7",
   "metadata": {},
   "outputs": [
    {
     "name": "stdout",
     "output_type": "stream",
     "text": [
      "[1, 2, 3, 4, 5]\n",
      "[1, 2, 3, 4, 5]\n"
     ]
    }
   ],
   "source": [
    "import copy\n",
    "l = [1,2,3,4,5]\n",
    "print(copy.copy(l)) # means refrencing each elemen in the list and making a ind of new list\n",
    "print(copy.deepcopy(l)) # means creating a new list totally from scratch (recursively)"
   ]
  }
 ],
 "metadata": {
  "kernelspec": {
   "display_name": "Python 3 (ipykernel)",
   "language": "python",
   "name": "python3"
  },
  "language_info": {
   "codemirror_mode": {
    "name": "ipython",
    "version": 3
   },
   "file_extension": ".py",
   "mimetype": "text/x-python",
   "name": "python",
   "nbconvert_exporter": "python",
   "pygments_lexer": "ipython3",
   "version": "3.9.7"
  }
 },
 "nbformat": 4,
 "nbformat_minor": 5
}
