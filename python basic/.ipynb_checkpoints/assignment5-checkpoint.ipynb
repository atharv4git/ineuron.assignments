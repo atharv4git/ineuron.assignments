{
 "cells": [
  {
   "cell_type": "markdown",
   "id": "65246559",
   "metadata": {},
   "source": [
    "# Atharv Kulkarni\n",
    "## Assignment 5\n",
    "### Q1\n",
    "What does an empty dictionary&#39;s code look like?\n",
    "### A1"
   ]
  },
  {
   "cell_type": "code",
   "execution_count": 2,
   "id": "6ddfd6cc",
   "metadata": {},
   "outputs": [
    {
     "name": "stdout",
     "output_type": "stream",
     "text": [
      "{} <class 'dict'>\n"
     ]
    }
   ],
   "source": [
    "d1 = dict()\n",
    "print(d1,type(d1))"
   ]
  },
  {
   "cell_type": "markdown",
   "id": "a236a044",
   "metadata": {},
   "source": [
    "### Q2\n",
    "What is the value of a dictionary value with the key &#39;foo&#39; and the value 42?\n",
    "### A2"
   ]
  },
  {
   "cell_type": "code",
   "execution_count": 3,
   "id": "75b05f7e",
   "metadata": {},
   "outputs": [
    {
     "name": "stdout",
     "output_type": "stream",
     "text": [
      "{'foo': 42}\n"
     ]
    }
   ],
   "source": [
    "d2 = {\"foo\":42}\n",
    "print(d2)"
   ]
  },
  {
   "cell_type": "markdown",
   "id": "62b4811a",
   "metadata": {},
   "source": [
    "### Q3\n",
    "What is the most significant distinction between a dictionary and a list?\n",
    "### A3\n",
    "The elements inse a list can be accessed using idexes but in case of dicrionaries keys are used to access a particular value or vive versa."
   ]
  },
  {
   "cell_type": "markdown",
   "id": "80e7b608",
   "metadata": {},
   "source": [
    "### Q4\n",
    "What happens if you try to access spam[&#39;foo&#39;] if spam is {&#39;bar&#39;: 100}?\n",
    "### A4"
   ]
  },
  {
   "cell_type": "code",
   "execution_count": 4,
   "id": "05b602eb",
   "metadata": {},
   "outputs": [
    {
     "ename": "KeyError",
     "evalue": "'foo'",
     "output_type": "error",
     "traceback": [
      "\u001b[1;31m---------------------------------------------------------------------------\u001b[0m",
      "\u001b[1;31mKeyError\u001b[0m                                  Traceback (most recent call last)",
      "\u001b[1;32m~\\AppData\\Local\\Temp/ipykernel_8652/2791981911.py\u001b[0m in \u001b[0;36m<module>\u001b[1;34m\u001b[0m\n\u001b[0;32m      1\u001b[0m \u001b[0mspam\u001b[0m \u001b[1;33m=\u001b[0m \u001b[1;33m{\u001b[0m\u001b[1;34m'bar'\u001b[0m\u001b[1;33m:\u001b[0m\u001b[1;36m100\u001b[0m\u001b[1;33m}\u001b[0m\u001b[1;33m\u001b[0m\u001b[1;33m\u001b[0m\u001b[0m\n\u001b[1;32m----> 2\u001b[1;33m \u001b[0mprint\u001b[0m\u001b[1;33m(\u001b[0m\u001b[0mspam\u001b[0m\u001b[1;33m[\u001b[0m\u001b[1;34m'foo'\u001b[0m\u001b[1;33m]\u001b[0m\u001b[1;33m)\u001b[0m\u001b[1;33m\u001b[0m\u001b[1;33m\u001b[0m\u001b[0m\n\u001b[0m",
      "\u001b[1;31mKeyError\u001b[0m: 'foo'"
     ]
    }
   ],
   "source": [
    "spam = {'bar':100}\n",
    "print(spam['foo'])"
   ]
  },
  {
   "cell_type": "markdown",
   "id": "a144b527",
   "metadata": {},
   "source": [
    "we get a key error..."
   ]
  },
  {
   "cell_type": "markdown",
   "id": "52b46c53",
   "metadata": {},
   "source": [
    "### Q5\n",
    "If a dictionary is stored in spam, what is the difference between the expressions &#39;cat&#39; in spam and &#39;cat&#39; in spam.keys()?\n",
    "### A5"
   ]
  },
  {
   "cell_type": "code",
   "execution_count": 9,
   "id": "a2c6e915",
   "metadata": {},
   "outputs": [
    {
     "name": "stdout",
     "output_type": "stream",
     "text": [
      "True\n",
      "True\n"
     ]
    }
   ],
   "source": [
    "spam['cat'] = 200\n",
    "print('cat' in spam) # this checks if 'cat' is available in keys in spam dict\n",
    "print('cat' in spam.keys()) # this too checks if 'cat' is available in keys in spam dict"
   ]
  },
  {
   "cell_type": "markdown",
   "id": "c1a0e8d6",
   "metadata": {},
   "source": [
    "### Q6\n",
    "If a dictionary is stored in spam, what is the difference between the expressions &#39;cat&#39; in spam and &#39;cat&#39; in spam.values()?\n",
    "### A6"
   ]
  },
  {
   "cell_type": "code",
   "execution_count": 11,
   "id": "f0c2276c",
   "metadata": {},
   "outputs": [
    {
     "name": "stdout",
     "output_type": "stream",
     "text": [
      "True\n",
      "False\n"
     ]
    }
   ],
   "source": [
    "print('cat' in spam) # this checks if 'cat' is available in keys in spam dict\n",
    "print('cat' in spam.values()) # this checks if 'cat' is available in values in spam dict"
   ]
  },
  {
   "cell_type": "markdown",
   "id": "3aca07d0",
   "metadata": {},
   "source": [
    "### Q7\n",
    "What is a shortcut for the following code?\n",
    "```{python3}\n",
    "if 'color' not in spam:\n",
    "    spam['color'] = 'black'\n",
    "```\n",
    "### A7"
   ]
  },
  {
   "cell_type": "code",
   "execution_count": 14,
   "id": "5589c05b",
   "metadata": {},
   "outputs": [
    {
     "name": "stdout",
     "output_type": "stream",
     "text": [
      "{'bar': 100, 'cat': 200, 'color': 'black'}\n"
     ]
    }
   ],
   "source": [
    "spam['color'] = 'black'\n",
    "print(spam)"
   ]
  },
  {
   "cell_type": "markdown",
   "id": "ff40dfd7",
   "metadata": {},
   "source": [
    "### Q8\n",
    "How do you &quot;pretty print&quot; dictionary values using which module and function?\n",
    "### A8"
   ]
  },
  {
   "cell_type": "code",
   "execution_count": 35,
   "id": "bc5b689a",
   "metadata": {},
   "outputs": [
    {
     "name": "stdout",
     "output_type": "stream",
     "text": [
      "{ 'bar': 100,\n",
      "  'cat': 200,\n",
      "  'color': 'black'}\n"
     ]
    }
   ],
   "source": [
    "import pprint\n",
    "pprint.pprint(spam,indent=2,width=1)"
   ]
  },
  {
   "cell_type": "code",
   "execution_count": 26,
   "id": "c3d08cf7",
   "metadata": {},
   "outputs": [
    {
     "name": "stdout",
     "output_type": "stream",
     "text": [
      "{\n",
      " \"bar\": 100,\n",
      " \"cat\": 200,\n",
      " \"color\": \"black\"\n",
      "}\n"
     ]
    }
   ],
   "source": [
    "import json\n",
    "print(json.dumps(spam,indent=1))"
   ]
  }
 ],
 "metadata": {
  "kernelspec": {
   "display_name": "Python 3 (ipykernel)",
   "language": "python",
   "name": "python3"
  },
  "language_info": {
   "codemirror_mode": {
    "name": "ipython",
    "version": 3
   },
   "file_extension": ".py",
   "mimetype": "text/x-python",
   "name": "python",
   "nbconvert_exporter": "python",
   "pygments_lexer": "ipython3",
   "version": "3.9.7"
  }
 },
 "nbformat": 4,
 "nbformat_minor": 5
}
