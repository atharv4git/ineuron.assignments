{
 "cells": [
  {
   "cell_type": "markdown",
   "id": "0b441cec",
   "metadata": {},
   "source": [
    "# Atharv kulkarni\n",
    "## Assignment 3\n",
    "### Q1\n",
    "Why are functions advantageous to have in your programs?\n",
    "### A1\n",
    "Functions help us to avoid multiple typing of same code block in our programs , functions make it easu to reuse same block of code multiple times saving our time resources and evidently increaseing our efficiancy.."
   ]
  },
  {
   "cell_type": "markdown",
   "id": "c7229c7c",
   "metadata": {},
   "source": [
    "### Q2\n",
    "When does the code in a function run: when it&#39;s specified or when it&#39;s called?\n",
    "### A2\n",
    "The code in a particular function can only be used if the fimction is called."
   ]
  },
  {
   "cell_type": "markdown",
   "id": "7069ec7d",
   "metadata": {},
   "source": [
    "### Q3\n",
    "What statement creates a function?\n",
    "### A3\n",
    "\"def function_name():\" creates a function \\\n",
    "example:"
   ]
  },
  {
   "cell_type": "code",
   "execution_count": 2,
   "id": "36b731d5",
   "metadata": {},
   "outputs": [
    {
     "name": "stdout",
     "output_type": "stream",
     "text": [
      "hello atharv\n"
     ]
    }
   ],
   "source": [
    "def greet(name):\n",
    "    print(\"hello\",name)\n",
    "greet(\"atharv\")"
   ]
  },
  {
   "cell_type": "markdown",
   "id": "cd5327dd",
   "metadata": {},
   "source": [
    "### Q4\n",
    "What is the difference between a function and a function call?\n",
    "### A4\n",
    "function is a block of code which we can reuse again and again , a function call is the statement which includes the parameters and arguments used to impement a function"
   ]
  },
  {
   "cell_type": "code",
   "execution_count": 3,
   "id": "642a2844",
   "metadata": {},
   "outputs": [
    {
     "name": "stdout",
     "output_type": "stream",
     "text": [
      "return value: 6\n",
      "6\n",
      "<class 'int'>\n"
     ]
    }
   ],
   "source": [
    "def function1(n1,n2,n3):\n",
    "    print(\"return value:\",n1*n2*n3)\n",
    "    return n1*n2*n3\n",
    "function_call1 = function1(1,2,3)\n",
    "print(function_call1)\n",
    "print(type(function_call1))"
   ]
  },
  {
   "cell_type": "markdown",
   "id": "0dbfd359",
   "metadata": {},
   "source": [
    "### Q5\n",
    "How many global scopes are there in a Python program? How many local scopes?\n",
    "### A6\n",
    "There can be multiple local scopes but there can be only one global sccope"
   ]
  },
  {
   "cell_type": "markdown",
   "id": "ed68724c",
   "metadata": {},
   "source": [
    "### Q6\n",
    "What happens to variables in a local scope when the function call returns?\n",
    "### A6\n",
    "when the execution of the code block in function is over then the loal variables gets destroyed. \\\n",
    "example:"
   ]
  },
  {
   "cell_type": "code",
   "execution_count": 1,
   "id": "3b684a42",
   "metadata": {},
   "outputs": [
    {
     "name": "stdout",
     "output_type": "stream",
     "text": [
      "10\n"
     ]
    },
    {
     "ename": "NameError",
     "evalue": "name 'local1' is not defined",
     "output_type": "error",
     "traceback": [
      "\u001b[1;31m---------------------------------------------------------------------------\u001b[0m",
      "\u001b[1;31mNameError\u001b[0m                                 Traceback (most recent call last)",
      "\u001b[1;32m~\\AppData\\Local\\Temp/ipykernel_9672/3031960852.py\u001b[0m in \u001b[0;36m<module>\u001b[1;34m\u001b[0m\n\u001b[0;32m      6\u001b[0m \u001b[1;33m\u001b[0m\u001b[0m\n\u001b[0;32m      7\u001b[0m \u001b[0mprint\u001b[0m\u001b[1;33m(\u001b[0m\u001b[0mglobal1\u001b[0m\u001b[1;33m)\u001b[0m\u001b[1;33m\u001b[0m\u001b[1;33m\u001b[0m\u001b[0m\n\u001b[1;32m----> 8\u001b[1;33m \u001b[0mprint\u001b[0m\u001b[1;33m(\u001b[0m\u001b[0mlocal1\u001b[0m\u001b[1;33m)\u001b[0m\u001b[1;33m\u001b[0m\u001b[1;33m\u001b[0m\u001b[0m\n\u001b[0m",
      "\u001b[1;31mNameError\u001b[0m: name 'local1' is not defined"
     ]
    }
   ],
   "source": [
    "global1 = 10\n",
    "\n",
    "def function2(num):\n",
    "    local1 = 20\n",
    "    global1 += local1\n",
    "\n",
    "print(global1)\n",
    "print(local1)"
   ]
  },
  {
   "cell_type": "markdown",
   "id": "4d7fb084",
   "metadata": {},
   "source": [
    "### Q7\n",
    "What is the concept of a return value? Is it possible to have a return value in an expression?\n",
    "### A7\n",
    "Return is used in functions to end function call and give a return type output which can be used in other functions. return cannot be used in expressions it can only be used in functions"
   ]
  },
  {
   "cell_type": "code",
   "execution_count": 6,
   "id": "99b6850b",
   "metadata": {},
   "outputs": [
    {
     "ename": "SyntaxError",
     "evalue": "invalid syntax (Temp/ipykernel_9672/398819022.py, line 1)",
     "output_type": "error",
     "traceback": [
      "\u001b[1;36m  File \u001b[1;32m\"C:\\Users\\athar\\AppData\\Local\\Temp/ipykernel_9672/398819022.py\"\u001b[1;36m, line \u001b[1;32m1\u001b[0m\n\u001b[1;33m    a = return 50\u001b[0m\n\u001b[1;37m        ^\u001b[0m\n\u001b[1;31mSyntaxError\u001b[0m\u001b[1;31m:\u001b[0m invalid syntax\n"
     ]
    }
   ],
   "source": [
    "a = return 50"
   ]
  },
  {
   "cell_type": "markdown",
   "id": "fa288728",
   "metadata": {},
   "source": [
    "### Q8\n",
    "If a function does not have a return statement, what is the return value of a call to that function?\n",
    "### A8\n",
    "If a function does not have a return statement then a None value is returned as a default"
   ]
  },
  {
   "cell_type": "code",
   "execution_count": 24,
   "id": "c64c0176",
   "metadata": {},
   "outputs": [
    {
     "name": "stdout",
     "output_type": "stream",
     "text": [
      "----------------------------------------------\n",
      "857375\n",
      "----------------------------------------------\n",
      "<function function3 at 0x0000027A3CEFDF70>\n",
      "----------------------------------------------\n",
      "857375\n",
      "None\n",
      "----------------------------------------------\n",
      "857375\n",
      "<class 'NoneType'>\n"
     ]
    }
   ],
   "source": [
    "def function3(x):\n",
    "    print(x**3)\n",
    "\n",
    "print(\"----------------------------------------------\")\n",
    "function3(95)\n",
    "print(\"----------------------------------------------\")\n",
    "print(function3)\n",
    "print(\"----------------------------------------------\")\n",
    "print(function3(95))\n",
    "print(\"----------------------------------------------\")\n",
    "print(type(function3(95)))"
   ]
  },
  {
   "cell_type": "markdown",
   "id": "661a3453",
   "metadata": {},
   "source": [
    "### Q9\n",
    "How do you make a function variable refer to the global variable?\n",
    "### A9\n",
    "by using global keyword we can refer to the value outside of the current scpe we're working in."
   ]
  },
  {
   "cell_type": "code",
   "execution_count": 4,
   "id": "354ee9f2",
   "metadata": {},
   "outputs": [
    {
     "name": "stdout",
     "output_type": "stream",
     "text": [
      "5\n",
      "After using Global\n",
      "50\n"
     ]
    }
   ],
   "source": [
    "myGlobal = 5\n",
    "def func1():\n",
    "    myGlobal = 50\n",
    "def func2():\n",
    "    global myGlobal\n",
    "    myGlobal = 50\n",
    "def func3():\n",
    "    print (myGlobal)\n",
    "func1()\n",
    "func3()\n",
    "print(\"After using Global\")\n",
    "func2()\n",
    "func3()"
   ]
  },
  {
   "cell_type": "markdown",
   "id": "3332532c",
   "metadata": {},
   "source": [
    "### Q10\n",
    "What is the data type of None?\n",
    "### A10\n",
    "None has its own type of data type which is NoneType"
   ]
  },
  {
   "cell_type": "markdown",
   "id": "bd19fca2",
   "metadata": {},
   "source": [
    "### Q11\n",
    "What does the sentence import areallyourpetsnamederic do?\n",
    "### A11\n",
    "It imports a molule named 'areallyourpetsnamederic'."
   ]
  },
  {
   "cell_type": "markdown",
   "id": "48ac4e79",
   "metadata": {},
   "source": [
    "### Q12\n",
    "If you had a bacon() feature in a spam module, what would you call it after importing spam?\n",
    "### A12\n",
    "we can use bacon feature of spam module by typing 'spam.bacon()' and then using it"
   ]
  },
  {
   "cell_type": "markdown",
   "id": "456cc369",
   "metadata": {},
   "source": [
    "### Q13\n",
    "What can you do to save a programme from crashing if it encounters an error?\n",
    "### A13\n",
    "we can intereupt or restart the kernel if we are using jupyter notebook , we can press ctrl+c in terminal if we're using .py file. But the best way to save a programme to crash is by error handling , by using try catch blocks."
   ]
  },
  {
   "cell_type": "markdown",
   "id": "253e938f",
   "metadata": {},
   "source": [
    "### Q14\n",
    "What is the purpose of the try clause? What is the purpose of the except clause?\n",
    "### A14\n",
    "Try 'tries' to run the code block wheich is in it , and except returns the exception caused by the code block."
   ]
  }
 ],
 "metadata": {
  "kernelspec": {
   "display_name": "Python 3 (ipykernel)",
   "language": "python",
   "name": "python3"
  },
  "language_info": {
   "codemirror_mode": {
    "name": "ipython",
    "version": 3
   },
   "file_extension": ".py",
   "mimetype": "text/x-python",
   "name": "python",
   "nbconvert_exporter": "python",
   "pygments_lexer": "ipython3",
   "version": "3.9.7"
  }
 },
 "nbformat": 4,
 "nbformat_minor": 5
}
