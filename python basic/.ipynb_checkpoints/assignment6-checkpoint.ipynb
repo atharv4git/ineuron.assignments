{
 "cells": [
  {
   "cell_type": "markdown",
   "id": "cc9af5cb",
   "metadata": {},
   "source": [
    "# Atharv Kulkarni\n",
    "## Assignment 6\n",
    "### Q1\n",
    "What are escape characters, and how do you use them?\n",
    "### A1\n",
    "the characters which could not be inserted into a string otherwise are inserted using escapse characters , each character is passed with a '\\' (backslash) as a prefix. \\\n",
    "example:"
   ]
  },
  {
   "cell_type": "code",
   "execution_count": 6,
   "id": "74b0b420",
   "metadata": {},
   "outputs": [
    {
     "name": "stdout",
     "output_type": "stream",
     "text": [
      "1 original text \"with double inverted commas\".\n",
      "2 hello\n",
      "hi\n"
     ]
    }
   ],
   "source": [
    "s1 = \"original text \\\"with double inverted commas\\\".\"\n",
    "s2 = \"hello\\nhi\"\n",
    "print(1,s1)\n",
    "print(2,s2)"
   ]
  },
  {
   "cell_type": "markdown",
   "id": "f4b2e5d5",
   "metadata": {},
   "source": [
    "### Q2\n",
    "What do the escape characters n and t stand for?\n",
    "### A2\n",
    "1. <b>\\n</b> stands for new line\n",
    "2. <b>\\t</b> stands for a tab"
   ]
  },
  {
   "cell_type": "code",
   "execution_count": 15,
   "id": "f7f273b4",
   "metadata": {},
   "outputs": [
    {
     "name": "stdout",
     "output_type": "stream",
     "text": [
      "first line\n",
      "second line\n"
     ]
    }
   ],
   "source": [
    "s1 = \"first line\\nsecond line\"\n",
    "print(s1)"
   ]
  },
  {
   "cell_type": "code",
   "execution_count": 16,
   "id": "ab1a4e22",
   "metadata": {},
   "outputs": [
    {
     "name": "stdout",
     "output_type": "stream",
     "text": [
      "before tab\tafter tab\n"
     ]
    }
   ],
   "source": [
    "s2 = \"before tab\\tafter tab\"\n",
    "print(s2)"
   ]
  },
  {
   "cell_type": "markdown",
   "id": "901f4fbf",
   "metadata": {},
   "source": [
    "### Q3\n",
    "What is the way to include backslash characters in a string?\n",
    "### A3"
   ]
  },
  {
   "cell_type": "code",
   "execution_count": 20,
   "id": "51deae05",
   "metadata": {},
   "outputs": [
    {
     "name": "stdout",
     "output_type": "stream",
     "text": [
      "\\\n"
     ]
    }
   ],
   "source": [
    "print(\"\\\\\")"
   ]
  },
  {
   "cell_type": "markdown",
   "id": "5a1ae897",
   "metadata": {},
   "source": [
    "### Q4\n",
    "The string &quot;Howl&#39;s Moving Castle&quot; is a correct value. Why isn&#39;t the single quote character in the word Howl&#39;s not escaped a problem?\n",
    "### A4"
   ]
  },
  {
   "cell_type": "markdown",
   "id": "b6d00bf4",
   "metadata": {},
   "source": [
    "because we can use single inverted commas inside double inverted comma and vice versa"
   ]
  },
  {
   "cell_type": "markdown",
   "id": "e7a5bfcf",
   "metadata": {},
   "source": [
    "### Q5\n",
    "How do you write a string of newlines if you don&#39;t want to use the n character?\n",
    "### A5"
   ]
  },
  {
   "cell_type": "code",
   "execution_count": 24,
   "id": "86c5f74c",
   "metadata": {},
   "outputs": [
    {
     "name": "stdout",
     "output_type": "stream",
     "text": [
      "first line\n",
      "second line\n"
     ]
    }
   ],
   "source": [
    "print(\"first line\")\n",
    "print(\"second line\")"
   ]
  },
  {
   "cell_type": "markdown",
   "id": "b213150c",
   "metadata": {},
   "source": [
    "### Q6\n",
    "What are the values of the given expressions?\n",
    "```\n",
    "'Hello, world!'[1]\n",
    "'Hello, world!'[0:5]\n",
    "'Hello, world!'[:5]\n",
    "'Hello, world!'[3:]\n",
    "```\n",
    "### A6"
   ]
  },
  {
   "cell_type": "code",
   "execution_count": 26,
   "id": "d4e49db7",
   "metadata": {},
   "outputs": [
    {
     "name": "stdout",
     "output_type": "stream",
     "text": [
      "e\n",
      "Hello\n",
      "Hello\n",
      "lo, world!\n"
     ]
    }
   ],
   "source": [
    "print('Hello, world!'[1])\n",
    "print('Hello, world!'[0:5])\n",
    "print('Hello, world!'[:5])\n",
    "print('Hello, world!'[3:])"
   ]
  },
  {
   "cell_type": "markdown",
   "id": "0f2a4824",
   "metadata": {},
   "source": [
    "### Q7\n",
    "What are the values of the following expressions?\n",
    "```\n",
    "'Hello'.upper()\n",
    "'Hello'.upper().isupper()\n",
    "'Hello'.upper().lower()\n",
    "```\n",
    "### A7"
   ]
  },
  {
   "cell_type": "code",
   "execution_count": 27,
   "id": "79522464",
   "metadata": {},
   "outputs": [
    {
     "name": "stdout",
     "output_type": "stream",
     "text": [
      "HELLO\n",
      "True\n",
      "hello\n"
     ]
    }
   ],
   "source": [
    "print('Hello'.upper())\n",
    "print('Hello'.upper().isupper())\n",
    "print('Hello'.upper().lower())"
   ]
  },
  {
   "cell_type": "markdown",
   "id": "4f0f30c6",
   "metadata": {},
   "source": [
    "### Q8\n",
    "What are the values of the following expressions?\n",
    "```\n",
    "'Remember, remember, the fifth of July.'.split()\n",
    "'-';.join('There can only one.'.split())\n",
    "```\n",
    "### A8"
   ]
  },
  {
   "cell_type": "code",
   "execution_count": 29,
   "id": "21385d19",
   "metadata": {},
   "outputs": [
    {
     "name": "stdout",
     "output_type": "stream",
     "text": [
      "['Remember,', 'remember,', 'the', 'fifth', 'of', 'July.']\n",
      "There-can-only-one.\n"
     ]
    }
   ],
   "source": [
    "print('Remember, remember, the fifth of July.'.split())\n",
    "print('-'.join('There can only one.'.split()))"
   ]
  },
  {
   "cell_type": "markdown",
   "id": "ac9a6f50",
   "metadata": {},
   "source": [
    "### Q9\n",
    "What are the methods for right-justifying, left-justifying, and centering a string?\n",
    "### A9"
   ]
  },
  {
   "cell_type": "code",
   "execution_count": 32,
   "id": "bdb8d74d",
   "metadata": {},
   "outputs": [
    {
     "name": "stdout",
     "output_type": "stream",
     "text": [
      "a random string to test-----------------\n",
      "-----------------a random string to test\n",
      "--------a random string to test---------\n"
     ]
    }
   ],
   "source": [
    "# ljust()\n",
    "s = \"a random string to test\"\n",
    "print(s.ljust(40,'-'))\n",
    "\n",
    "# rjust()\n",
    "print(s.rjust(40,'-'))\n",
    "\n",
    "# center\n",
    "print(s.center(40,'-'))"
   ]
  },
  {
   "cell_type": "markdown",
   "id": "e70fe24d",
   "metadata": {},
   "source": [
    "### Q10\n",
    "What is the best way to remove whitespace characters from the start or end?\n",
    "### A10"
   ]
  },
  {
   "cell_type": "code",
   "execution_count": 50,
   "id": "bacc31e9",
   "metadata": {},
   "outputs": [
    {
     "name": "stdout",
     "output_type": "stream",
     "text": [
      "| a random string to test                  |\n",
      "|                a random string to test |\n",
      "| a random string to test |\n"
     ]
    }
   ],
   "source": [
    "s = \"               a random string to test                 \"\n",
    "print('|',s.lstrip(),'|')\n",
    "print('|',s.rstrip(),'|')\n",
    "print('|',s.strip(),'|')"
   ]
  }
 ],
 "metadata": {
  "kernelspec": {
   "display_name": "Python 3 (ipykernel)",
   "language": "python",
   "name": "python3"
  },
  "language_info": {
   "codemirror_mode": {
    "name": "ipython",
    "version": 3
   },
   "file_extension": ".py",
   "mimetype": "text/x-python",
   "name": "python",
   "nbconvert_exporter": "python",
   "pygments_lexer": "ipython3",
   "version": "3.9.7"
  }
 },
 "nbformat": 4,
 "nbformat_minor": 5
}
