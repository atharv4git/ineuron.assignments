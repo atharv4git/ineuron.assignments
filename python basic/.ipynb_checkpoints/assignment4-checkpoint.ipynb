{
 "cells": [
  {
   "cell_type": "markdown",
   "id": "2d3f5c52",
   "metadata": {},
   "source": [
    "# Atharv Kulkarni\n",
    "## Assignment 4\n",
    "### Q1\n",
    "What exactly is []?\n",
    "### A1\n",
    "[] is an empty list"
   ]
  },
  {
   "cell_type": "code",
   "execution_count": 2,
   "id": "e80c1d77",
   "metadata": {},
   "outputs": [
    {
     "name": "stdout",
     "output_type": "stream",
     "text": [
      "[] <class 'list'>\n"
     ]
    }
   ],
   "source": [
    "l = []\n",
    "print(l,type(l))"
   ]
  },
  {
   "cell_type": "markdown",
   "id": "39aaf46d",
   "metadata": {},
   "source": [
    "### Q2\n",
    "In a list of values stored in a variable called spam, how would you assign the value &#39;hello&#39; as the third value? (Assume [2, 4, 6, 8, 10] are in spam.)\n",
    "### A2"
   ]
  },
  {
   "cell_type": "code",
   "execution_count": 5,
   "id": "28aaad78",
   "metadata": {},
   "outputs": [
    {
     "name": "stdout",
     "output_type": "stream",
     "text": [
      "[2, 4, 6, 8, 10]\n",
      "[2, 4, 'hello', 6, 8, 10]\n"
     ]
    }
   ],
   "source": [
    "spam = [2,4,6,8,10]\n",
    "print(spam)\n",
    "spam.insert(2,\"hello\")\n",
    "print(spam)"
   ]
  },
  {
   "cell_type": "markdown",
   "id": "11c0e549",
   "metadata": {},
   "source": [
    "### Q3\n",
    "What is the value of spam[int(int(&#39;3&#39; * 2) / 11)]?\n",
    "### A3"
   ]
  },
  {
   "cell_type": "code",
   "execution_count": 6,
   "id": "cf63d136",
   "metadata": {},
   "outputs": [
    {
     "data": {
      "text/plain": [
       "6"
      ]
     },
     "execution_count": 6,
     "metadata": {},
     "output_type": "execute_result"
    }
   ],
   "source": [
    "spam[int(int('3' * 2) / 11)]"
   ]
  },
  {
   "cell_type": "markdown",
   "id": "a77458bd",
   "metadata": {},
   "source": [
    "### Q4\n",
    "What is the value of spam[-1]?\n",
    "### A4"
   ]
  },
  {
   "cell_type": "code",
   "execution_count": 7,
   "id": "b7c47959",
   "metadata": {},
   "outputs": [
    {
     "data": {
      "text/plain": [
       "10"
      ]
     },
     "execution_count": 7,
     "metadata": {},
     "output_type": "execute_result"
    }
   ],
   "source": [
    "spam[-1]"
   ]
  },
  {
   "cell_type": "markdown",
   "id": "1626aa7d",
   "metadata": {},
   "source": [
    "### Q5\n",
    "what is the value of spam[:2]\n",
    "### A5"
   ]
  },
  {
   "cell_type": "code",
   "execution_count": 8,
   "id": "334bb52e",
   "metadata": {},
   "outputs": [
    {
     "data": {
      "text/plain": [
       "[2, 4]"
      ]
     },
     "execution_count": 8,
     "metadata": {},
     "output_type": "execute_result"
    }
   ],
   "source": [
    "spam[:2]"
   ]
  },
  {
   "cell_type": "markdown",
   "id": "fede20e2",
   "metadata": {},
   "source": [
    "### Q6\n",
    "Let&#39;s pretend bacon has the list [3.14, &#39;cat,&#39; 11, &#39;cat,&#39; True] for the next three questions. \\\n",
    "\n",
    "What is the value of bacon.index(&#39;cat&#39;)?\n",
    "### A6"
   ]
  },
  {
   "cell_type": "code",
   "execution_count": 17,
   "id": "fc2424f0",
   "metadata": {},
   "outputs": [
    {
     "data": {
      "text/plain": [
       "1"
      ]
     },
     "execution_count": 17,
     "metadata": {},
     "output_type": "execute_result"
    }
   ],
   "source": [
    "bacon = [3.14, 'cat', 11, 'cat', True]\n",
    "bacon.index('cat')"
   ]
  },
  {
   "cell_type": "markdown",
   "id": "45e797f3",
   "metadata": {},
   "source": [
    "### Q7\n",
    "How does bacon.append(99) change the look of the list value in bacon?\n",
    "### A7"
   ]
  },
  {
   "cell_type": "code",
   "execution_count": 18,
   "id": "b0f8be22",
   "metadata": {},
   "outputs": [
    {
     "name": "stdout",
     "output_type": "stream",
     "text": [
      "before: [3.14, 'cat', 11, 'cat', True]\n",
      "after: [3.14, 'cat', 11, 'cat', True, 99]\n"
     ]
    }
   ],
   "source": [
    "print(\"before:\",bacon)\n",
    "bacon.append(99)\n",
    "print(\"after:\",bacon)"
   ]
  },
  {
   "cell_type": "markdown",
   "id": "c0684335",
   "metadata": {},
   "source": [
    "### Q8\n",
    "How does bacon.remove(&#39;cat&#39;) change the look of the list in bacon?\n",
    "### A8"
   ]
  },
  {
   "cell_type": "code",
   "execution_count": 19,
   "id": "2b72fa04",
   "metadata": {},
   "outputs": [
    {
     "name": "stdout",
     "output_type": "stream",
     "text": [
      "before: [3.14, 'cat', 11, 'cat', True, 99]\n",
      "after: [3.14, 11, 'cat', True, 99]\n"
     ]
    }
   ],
   "source": [
    "print(\"before:\",bacon)\n",
    "bacon.remove('cat')\n",
    "print(\"after:\",bacon)"
   ]
  },
  {
   "cell_type": "code",
   "execution_count": null,
   "id": "e82d1207",
   "metadata": {},
   "outputs": [],
   "source": []
  }
 ],
 "metadata": {
  "kernelspec": {
   "display_name": "Python 3 (ipykernel)",
   "language": "python",
   "name": "python3"
  },
  "language_info": {
   "codemirror_mode": {
    "name": "ipython",
    "version": 3
   },
   "file_extension": ".py",
   "mimetype": "text/x-python",
   "name": "python",
   "nbconvert_exporter": "python",
   "pygments_lexer": "ipython3",
   "version": "3.9.7"
  }
 },
 "nbformat": 4,
 "nbformat_minor": 5
}
