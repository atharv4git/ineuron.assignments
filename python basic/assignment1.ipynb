{
 "cells": [
  {
   "cell_type": "markdown",
   "id": "9c9dfbab",
   "metadata": {},
   "source": [
    "# Atharv kulkarni\n",
    "## Assignment 1"
   ]
  },
  {
   "cell_type": "markdown",
   "id": "679abb7f",
   "metadata": {},
   "source": [
    "### Q1\n",
    "In the below elements which of them are values or an expression? eg:- values can be integer or string and expressions will be mathematical operators. \\\n",
    "\"*\" \\\n",
    "'hello' \\\n",
    "\"-87.8\" \\\n",
    "\"-\" \\\n",
    "\"/\" \\\n",
    "\"+\" \\\n",
    "\"6\""
   ]
  },
  {
   "cell_type": "markdown",
   "id": "62350535",
   "metadata": {},
   "source": [
    "### A1\n",
    "expressions: \" * , - , / , + ,6 \" \\\n",
    "values: \" -87.8 , 'hello' , 6 \"\n",
    "<hr>"
   ]
  },
  {
   "cell_type": "markdown",
   "id": "cab0217c",
   "metadata": {},
   "source": [
    "### Q2\n",
    "What is the difference between string and variable?\n",
    "\n",
    "### A2\n",
    "variable is the enntity in which we save information while string is the type of inforemation we want to save.\n",
    "<hr>"
   ]
  },
  {
   "cell_type": "markdown",
   "id": "e971074a",
   "metadata": {},
   "source": [
    "### Q3\n",
    "Describe three different data types.\n",
    "### A3\n",
    "1. integer: this datatype stores integer data meaning only numerical data and no decimal\n",
    "2. float: this data type stores float data meaning it stores integer as well as decimal values\n",
    "3. string: this data type stores string data meaning it stores every data as a string , so if u enter even a digit it will store it as a string.\n",
    "<hr>"
   ]
  },
  {
   "cell_type": "markdown",
   "id": "a5f2c843",
   "metadata": {},
   "source": [
    "### Q4\n",
    "What is an expression made up of? What do all expressions do?\n",
    "### A4\n",
    "expressions are the combination of operands and operators , expressions help us to perfore various tasks we want to do with a programming language.\n",
    "<hr>"
   ]
  },
  {
   "cell_type": "markdown",
   "id": "cc2ec2b4",
   "metadata": {},
   "source": [
    "### Q5\n",
    "This assignment statement, like spam = 10. What is the difference between an expression and a statement?\n",
    "### A5\n",
    "when we assign an expression to a vaiable it iss called assignment tatement\n",
    "<hr>"
   ]
  },
  {
   "cell_type": "markdown",
   "id": "8ad9b5a5",
   "metadata": {},
   "source": [
    "### Q6\n",
    "After running the following code, what does the variable bacon contain?\n",
    "bacon = 22\n",
    "bacon + 1\n",
    "### A6\n",
    "ans:22 (because we didn't assigned it to anything)\n",
    "<hr>"
   ]
  },
  {
   "cell_type": "markdown",
   "id": "2068751a",
   "metadata": {},
   "source": [
    "### Q7\n",
    "What should the values of the following two terms be? \\\n",
    "&#39;spam&#39; + &#39;spamspam&#39; \\\n",
    "&#39;spam&#39; * 3\n",
    "### A7\n",
    "1. 'spamspamspam' - because it will concatinate the strings\n",
    "2. 'spamspamspam' - becuase it will multiply the strings no. of time you want.\n",
    "<hr>"
   ]
  },
  {
   "cell_type": "markdown",
   "id": "698df866",
   "metadata": {},
   "source": [
    "### Q8\n",
    "Why is eggs a valid variable name while 100 is invalid?\n",
    "### A8\n",
    "eggs is a valid name because \"eggs\" containss all strings and does not strarts with a digit, but 1000 is a no. and it does start with a digit which is invalid to assiign it as a variable name.\n",
    "<hr>"
   ]
  },
  {
   "cell_type": "markdown",
   "id": "837bb226",
   "metadata": {},
   "source": [
    "### Q9\n",
    "What three functions can be used to get the integer, floating-point number, or string version of a value?\n",
    "### A9\n",
    "str(),int(),float()\n",
    "<hr>"
   ]
  },
  {
   "cell_type": "markdown",
   "id": "403a17ea",
   "metadata": {},
   "source": [
    "### Q10\n",
    "Why does this expression cause an error? How can you fix it?\\\n",
    "&#39;I have eaten &#39; + 99 + &#39; burritos.&#39;\n",
    "### A10\n",
    "because string and integer cannot be executed together"
   ]
  }
 ],
 "metadata": {
  "kernelspec": {
   "display_name": "Python 3 (ipykernel)",
   "language": "python",
   "name": "python3"
  },
  "language_info": {
   "codemirror_mode": {
    "name": "ipython",
    "version": 3
   },
   "file_extension": ".py",
   "mimetype": "text/x-python",
   "name": "python",
   "nbconvert_exporter": "python",
   "pygments_lexer": "ipython3",
   "version": "3.9.7"
  }
 },
 "nbformat": 4,
 "nbformat_minor": 5
}
